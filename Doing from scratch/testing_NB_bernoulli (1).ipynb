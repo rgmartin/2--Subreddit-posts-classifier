{
 "cells": [
  {
   "cell_type": "markdown",
   "metadata": {
    "id": "0ckyvPrsfqhm"
   },
   "source": [
    "# 1. Load libraries"
   ]
  },
  {
   "cell_type": "code",
   "execution_count": 1,
   "metadata": {
    "id": "abq9_j-_fqhn"
   },
   "outputs": [],
   "source": [
    "## packages \n",
    "import numpy as np\n",
    "from scipy.sparse import coo_matrix # for sparse matrix\n",
    "from sklearn.naive_bayes import MultinomialNB, BernoulliNB\n",
    "from sklearn.metrics import accuracy_score # for evaluating results\n",
    "\n",
    "# data path and file name \n",
    "path = 'ex6DataPrepared/'\n",
    "train_data_fn = 'train-features.txt'\n",
    "test_data_fn = 'test-features.txt'\n",
    "train_label_fn = 'train-labels.txt'\n",
    "test_label_fn = 'test-labels.txt'"
   ]
  },
  {
   "cell_type": "markdown",
   "metadata": {
    "id": "tfc-jhY7fqhq"
   },
   "source": [
    "# 2. Define read_data function"
   ]
  },
  {
   "cell_type": "code",
   "execution_count": 2,
   "metadata": {
    "id": "UulWjTVefqhr"
   },
   "outputs": [],
   "source": [
    "nwords = 2500 \n",
    "\n",
    "def read_data(data_fn, label_fn, type):\n",
    "    ## read label_fn\n",
    "    with open(path + label_fn) as f:\n",
    "        content_tmp = f.readlines()\n",
    "    # remove '\\n' at the end of each line\n",
    "    label = [int(x.strip()) for x in content_tmp]\n",
    "\n",
    "    ## read data_fn\n",
    "    with open(path + data_fn) as f:\n",
    "        content_tmp = f.readlines()\n",
    "    # remove '\\n' at the end of each line\n",
    "    content = [x.strip() for x in content_tmp] \n",
    "    \n",
    "    data = np.zeros((len(label), nwords))\n",
    "    \n",
    "    for i, line in enumerate(content): \n",
    "        a = line.split(' ')\n",
    "        # because words and observation is indexed from 1, so we need to minus 1\n",
    "        if (type == 'Multinomial'):\n",
    "            data[int(a[0]) - 1, int(a[1]) - 1] = int(a[2])\n",
    "        elif (type == 'Bernoulli'):\n",
    "            data[int(a[0]) - 1, int(a[1]) - 1] = 1\n",
    "        else:\n",
    "            raise ValueError(\"Please use the correct method\")\n",
    "    return (np.array(data), np.array(label))"
   ]
  },
  {
   "cell_type": "markdown",
   "metadata": {
    "id": "I-yQfLFofqhx"
   },
   "source": [
    "# 3. Bernoulli Naive Bayes"
   ]
  },
  {
   "cell_type": "code",
   "execution_count": 3,
   "metadata": {
    "id": "NV4lgc35fqhv"
   },
   "outputs": [],
   "source": [
    "(train_data, train_label)  = read_data(train_data_fn, train_label_fn, 'Bernoulli')\n",
    "(test_data, test_label)  = read_data(test_data_fn, test_label_fn, 'Bernoulli')"
   ]
  },
  {
   "cell_type": "markdown",
   "metadata": {},
   "source": [
    "## 1. Using SciKit"
   ]
  },
  {
   "cell_type": "code",
   "execution_count": 4,
   "metadata": {
    "id": "t2OGD0qDfqhx",
    "outputId": "f8bb3808-bb59-4148-f49c-a770bef851e0"
   },
   "outputs": [
    {
     "name": "stdout",
     "output_type": "stream",
     "text": [
      "Training size = 700, accuracy = 85.38%\n"
     ]
    }
   ],
   "source": [
    "clf = BernoulliNB(alpha = 1)\n",
    "clf.fit(train_data, train_label)\n",
    "y_pred = clf.predict(test_data)\n",
    "\n",
    "print('Training size = %d, accuracy = %.2f%%' % \\\n",
    "      (train_data.shape[0],accuracy_score(test_label, y_pred)*100))"
   ]
  },
  {
   "cell_type": "markdown",
   "metadata": {
    "id": "EpzzFVU-fqh0"
   },
   "source": [
    "## 2. Doing from scratch"
   ]
  },
  {
   "cell_type": "code",
   "execution_count": 5,
   "metadata": {
    "id": "yBpkPB5hfqh1"
   },
   "outputs": [
    {
     "name": "stdout",
     "output_type": "stream",
     "text": [
      "[350 350]\n",
      "[0 1]\n",
      "[  0 350 700]\n"
     ]
    }
   ],
   "source": [
    "y_freq = np.bincount(train_label)\n",
    "print(y_freq)\n",
    "\n",
    "label = np.nonzero(y_freq)[0]\n",
    "print(label)\n",
    "\n",
    "y_index = np.hstack((0, np.cumsum(y_freq)))\n",
    "print(y_index)"
   ]
  },
  {
   "cell_type": "code",
   "execution_count": 6,
   "metadata": {
    "id": "vaSfv0djfqh3"
   },
   "outputs": [],
   "source": [
    "smoothing = 1"
   ]
  },
  {
   "cell_type": "code",
   "execution_count": 7,
   "metadata": {
    "id": "4Q0FEQDvfqh5",
    "outputId": "7c1cc2ca-7a57-4b28-e572-4f87308abdfe"
   },
   "outputs": [
    {
     "name": "stdout",
     "output_type": "stream",
     "text": [
      "[0.5 0.5]\n"
     ]
    }
   ],
   "source": [
    "V = train_data.shape[1]\n",
    "# print(V)\n",
    "\n",
    "class_log_prior = np.zeros_like(label, dtype=float)\n",
    "\n",
    "for ii in np.arange(len(label)):\n",
    "    class_log_prior[ii] = y_freq[ii]/len(train_label)\n",
    "print(class_log_prior)\n",
    "\n",
    "feature_prob = np.zeros((len(label), V))\n",
    "\n",
    "for ii in np.arange(len(label)):\n",
    "    data = train_data[y_index[ii]:y_index[ii+1],:]\n",
    "    data = (np.sum(data, axis=0)+smoothing)/(data.shape[0]+smoothing*2)\n",
    "    feature_prob[ii] = data"
   ]
  },
  {
   "cell_type": "code",
   "execution_count": 8,
   "metadata": {
    "id": "Bq4NOLRIfqh8"
   },
   "outputs": [],
   "source": [
    "class_prob = np.zeros((len(test_data), len(label)))\n",
    "\n",
    "for ii in np.arange(len(label)):\n",
    "    data = np.tile(feature_prob[label[ii]], (len(test_data), 1))\n",
    "    data = np.multiply(np.log10(data), test_data) + np.multiply(np.log10(1-data), 1-test_data)\n",
    "    class_prob[:, ii] = np.log10(class_log_prior[ii]) + np.sum(data, axis=1)"
   ]
  },
  {
   "cell_type": "code",
   "execution_count": 9,
   "metadata": {
    "id": "GzUtMblcfqh-"
   },
   "outputs": [],
   "source": [
    "y_hat = np.zeros_like(test_label)\n",
    "for ii in np.arange(0, len(y_hat)):\n",
    "    y_hat[ii] = label[np.argmax(class_prob[ii, :])]"
   ]
  },
  {
   "cell_type": "code",
   "execution_count": 10,
   "metadata": {},
   "outputs": [
    {
     "name": "stdout",
     "output_type": "stream",
     "text": [
      "[0 0 0 0 0 0 0 0 0 0 0 0 0 0 0 0 0 0 0 0 0 0 0 0 0 0 0 0 0 0 0 0 0 0 0 0 0\n",
      " 0 0 0 1 0 0 0 0 1 0 0 0 0 0 0 0 0 1 0 0 0 0 0 0 0 0 0 0 0 0 0 0 0 0 0 0 0\n",
      " 1 0 0 0 0 0 0 0 0 0 0 0 0 0 0 0 0 0 0 0 0 0 0 0 0 0 0 0 0 0 0 0 0 0 0 0 0\n",
      " 0 0 0 0 0 0 0 0 0 0 0 0 0 0 0 0 0 0 0 1 1 0 0 1 0 0 1 1 1 1 1 1 1 1 1 0 1\n",
      " 1 1 0 1 1 1 1 0 1 1 1 1 1 1 1 0 0 1 1 1 1 1 1 0 1 1 0 1 1 0 1 1 1 0 1 0 0\n",
      " 0 1 0 1 1 1 1 1 1 1 1 1 0 0 1 1 1 1 0 0 1 0 1 1 1 1 1 1 1 1 0 1 1 1 1 1 1\n",
      " 1 1 1 1 1 1 0 1 1 0 1 1 1 0 0 0 0 1 1 1 1 1 1 1 0 0 0 0 0 1 1 1 1 1 1 1 1\n",
      " 1]\n"
     ]
    }
   ],
   "source": [
    "print(y_hat)"
   ]
  },
  {
   "cell_type": "code",
   "execution_count": 11,
   "metadata": {
    "id": "F81RwzaFfqiA",
    "outputId": "daa01824-aedf-4edb-eba1-c9197673a900"
   },
   "outputs": [
    {
     "name": "stdout",
     "output_type": "stream",
     "text": [
      "0.8538461538461538\n"
     ]
    }
   ],
   "source": [
    "print(accuracy_score(test_label, y_hat))"
   ]
  },
  {
   "cell_type": "code",
   "execution_count": null,
   "metadata": {},
   "outputs": [],
   "source": []
  }
 ],
 "metadata": {
  "colab": {
   "name": "testing_NB.ipynb",
   "provenance": []
  },
  "kernelspec": {
   "display_name": "Python 3",
   "language": "python",
   "name": "python3"
  },
  "language_info": {
   "codemirror_mode": {
    "name": "ipython",
    "version": 3
   },
   "file_extension": ".py",
   "mimetype": "text/x-python",
   "name": "python",
   "nbconvert_exporter": "python",
   "pygments_lexer": "ipython3",
   "version": "3.8.3"
  }
 },
 "nbformat": 4,
 "nbformat_minor": 1
}
